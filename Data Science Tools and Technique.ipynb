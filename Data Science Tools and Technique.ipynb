{
 "cells": [
  {
   "cell_type": "markdown",
   "id": "f866ff38",
   "metadata": {},
   "source": [
    "\n",
    "# Data Science Tools  and Technique\n"
   ]
  },
  {
   "cell_type": "markdown",
   "id": "2eec961c",
   "metadata": {},
   "source": [
    "### Introductory\n",
    "This notebook explores data science languages, libraries, and basic operations"
   ]
  },
  {
   "cell_type": "markdown",
   "id": "9ec8dd8e",
   "metadata": {},
   "source": [
    "Languages used in Data Science -\n",
    "- Python\n",
    "- R\n",
    "- SQL\n",
    "- Java"
   ]
  },
  {
   "cell_type": "markdown",
   "id": "76cf0b09",
   "metadata": {},
   "source": [
    "Data Science libraries -\n",
    "- numpy\n",
    "- pandas\n",
    "- tensorflow\n",
    "- Scikit learn\n"
   ]
  },
  {
   "cell_type": "markdown",
   "id": "a046f0fc",
   "metadata": {},
   "source": [
    "Data Science tools - \n",
    "| Tool          | Purpose                         |\n",
    "|---------------|---------------------------------|\n",
    "| Jupiter       | intractive programming tool     |\n",
    "| My SQL        | Data Storage and oprations      |\n",
    "| Pytorch       | Database queries                |\n",
    "| VS Code       | Advanced coding environment     |\n",
    "| Git           | Version control                 |\n",
    "| Tableau       | Data visualization              |\n",
    "| Apache Spark  | Big data processing             |"
   ]
  },
  {
   "cell_type": "markdown",
   "id": "38e72b7e",
   "metadata": {},
   "source": [
    "Arthemetic Expression -\n",
    "\n",
    " Addition (+)\n",
    "- Example - ( 5 + 3) = 8\n",
    "\n",
    " Subtraction (-)\n",
    "- Example - ( 5 - 3) = 2\n",
    "\n",
    " Multiplication (*)\n",
    " - Example - ( 5 * 3) = 15\n",
    " \n",
    " Division (/)\n",
    "- Example - ( 5 / 3) = 1.66\n",
    "\n",
    " Exponentiation (**)\n",
    "- Example - ( 5 ** 3) = 125\n",
    "\n",
    "Modulus (%, remainder after division)\n",
    "- Example - ( 5 % 3) = 2"
   ]
  },
  {
   "cell_type": "code",
   "execution_count": 3,
   "id": "ed43fb08",
   "metadata": {},
   "outputs": [
    {
     "data": {
      "text/plain": [
       "51"
      ]
     },
     "execution_count": 3,
     "metadata": {},
     "output_type": "execute_result"
    }
   ],
   "source": [
    " (2 * 3) + 45 # multiplication and addition"
   ]
  },
  {
   "cell_type": "code",
   "execution_count": 7,
   "id": "9097b6f9",
   "metadata": {},
   "outputs": [
    {
     "name": "stdout",
     "output_type": "stream",
     "text": [
      "300\n"
     ]
    }
   ],
   "source": [
    "hours = 5\n",
    "minutes = hours * 60 \n",
    "print (minutes)"
   ]
  },
  {
   "cell_type": "markdown",
   "id": "fe3e2ea2",
   "metadata": {},
   "source": [
    "Objetcives - \n",
    "- To know Data science tools and techniques\n",
    "- To know about libraries used in Data Science\n",
    "- To perform arthemetic opertaions\n"
   ]
  },
  {
   "cell_type": "markdown",
   "id": "8f31e051",
   "metadata": {},
   "source": [
    "_Introductory_\n",
    "-  This notebook explores data science languages, libraries, and basic operations"
   ]
  },
  {
   "cell_type": "markdown",
   "id": "ad3fe575",
   "metadata": {},
   "source": [
    "###### Author's Name : Aditya Sutar"
   ]
  },
  {
   "cell_type": "markdown",
   "id": "30c740f6",
   "metadata": {},
   "source": [
    "###### Github Link Of this Notebook - \n"
   ]
  },
  {
   "cell_type": "code",
   "execution_count": null,
   "id": "ecc1b098",
   "metadata": {},
   "outputs": [],
   "source": []
  }
 ],
 "metadata": {
  "kernelspec": {
   "display_name": "Python 3 (ipykernel)",
   "language": "python",
   "name": "python3"
  },
  "language_info": {
   "codemirror_mode": {
    "name": "ipython",
    "version": 3
   },
   "file_extension": ".py",
   "mimetype": "text/x-python",
   "name": "python",
   "nbconvert_exporter": "python",
   "pygments_lexer": "ipython3",
   "version": "3.11.4"
  }
 },
 "nbformat": 4,
 "nbformat_minor": 5
}
